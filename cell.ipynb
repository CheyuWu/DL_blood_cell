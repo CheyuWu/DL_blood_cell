{
 "cells": [
  {
   "cell_type": "code",
   "execution_count": 1,
   "metadata": {},
   "outputs": [
    {
     "name": "stderr",
     "output_type": "stream",
     "text": [
      "/home/cheyu/anaconda3/lib/python3.6/site-packages/h5py/__init__.py:36: FutureWarning: Conversion of the second argument of issubdtype from `float` to `np.floating` is deprecated. In future, it will be treated as `np.float64 == np.dtype(float).type`.\n",
      "  from ._conv import register_converters as _register_converters\n",
      "Using TensorFlow backend.\n"
     ]
    }
   ],
   "source": [
    "import cv2\n",
    "import numpy as np\n",
    "import pandas as pd\n",
    "import seaborn as sns\n",
    "import matplotlib.pyplot as plt\n",
    "from keras.preprocessing.image import load_img#載入圖片需宣告這個\n",
    "from keras.preprocessing.image import ImageDataGenerator\n",
    "from keras.models import Sequential\n",
    "from keras.layers import Activation, Dropout, Flatten, Dense\n",
    "from keras.layers import Convolution2D, MaxPooling2D, ZeroPadding2D\n",
    "from keras.applications import VGG16\n",
    "from keras.applications import VGG19\n",
    "from keras.applications import ResNet50\n",
    "from keras.callbacks import ModelCheckpoint\n",
    "from keras.utils.vis_utils import plot_model\n",
    "from keras.models import Model\n",
    "from keras import optimizers\n",
    "import os\n",
    "import random\n",
    "import scipy\n",
    "from sklearn.metrics import classification_report, confusion_matrix,roc_curve,roc_auc_score,auc\n",
    "import numpy as np\n",
    "import cv2"
   ]
  },
  {
   "cell_type": "code",
   "execution_count": 2,
   "metadata": {},
   "outputs": [],
   "source": [
    "def history_plot(results): \n",
    "    # list all data in history\n",
    "    print(results.history.keys())\n",
    "    # summarize history for accuracy\n",
    "    plt.figure(1)\n",
    "    plt.plot(results.history['acc'])\n",
    "    plt.plot(results.history['val_acc'])\n",
    "    plt.title('model accuracy')\n",
    "    plt.ylabel('accuracy')\n",
    "    plt.xlabel('epoch')\n",
    "    plt.legend(['train', 'validation'], loc='upper left')\n",
    "    plt.savefig('Accuracy',dpi=300)\n",
    "    plt.show()\n",
    "\n",
    "    # summarize history for loss\n",
    "    plt.figure(2)\n",
    "    plt.plot(results.history[\"loss\"], label=\"loss\")\n",
    "    plt.plot(results.history[\"val_loss\"], label=\"val_loss\")\n",
    "    plt.plot(np.argmin(results.history[\"val_loss\"]), \n",
    "             np.min(results.history[\"val_loss\"]), \n",
    "             marker=\"x\", color=\"r\", label=\"best model\")\n",
    "    plt.xlabel(\"Epochs\")\n",
    "    plt.ylabel(\"log_loss\")\n",
    "    plt.legend();\n",
    "    plt.savefig('Loss',dpi=300)\n",
    "    plt.show()"
   ]
  },
  {
   "cell_type": "code",
   "execution_count": 3,
   "metadata": {},
   "outputs": [],
   "source": [
    "#flow_from_directory目錄需要分3類\n",
    "train_cell = './dataset-master/images/TRAIN/train_cell'\n",
    "valid_cell = './dataset-master/images/TEST/test_cell'\n",
    "test_cell = './dataset-master/images/TEST_SIMPLE/'\n"
   ]
  },
  {
   "cell_type": "code",
   "execution_count": 4,
   "metadata": {},
   "outputs": [],
   "source": [
    "# Setting the default value\n",
    "# dimensions of our images.\n",
    "img_width, img_height = 240, 320\n",
    "batch_size = 32\n",
    "epochs = 100\n",
    "seed = 42\n",
    "class_mode = 'binary'\n",
    "date = '2019-03-15_1'\n"
   ]
  },
  {
   "cell_type": "code",
   "execution_count": 5,
   "metadata": {},
   "outputs": [
    {
     "name": "stdout",
     "output_type": "stream",
     "text": [
      "Found 4980 images belonging to 2 classes.\n",
      "Found 1243 images belonging to 2 classes.\n"
     ]
    }
   ],
   "source": [
    "#ImageDataGenerator\n",
    "# used to rescale the pixel values from [0, 255] to [0, 1] interval\n",
    "datagen = ImageDataGenerator(rescale=1./255,\n",
    "                             rotation_range = 90,  #图片随机转动的角度\n",
    "                             width_shift_range = 0.2, #图片水平偏移的幅度\n",
    "                             height_shift_range = 0.2, #图片竖直偏移的幅度\n",
    "                             zoom_range = 0.3)\n",
    "\n",
    "# automagically retrieve images and their classes for train and validation sets\n",
    "train_generator = datagen.flow_from_directory(\n",
    "        train_cell,\n",
    "        target_size = (img_width, img_height),\n",
    "        batch_size = batch_size,\n",
    "        class_mode = class_mode)\n",
    "\n",
    "validation_generator = datagen.flow_from_directory(\n",
    "        valid_cell,\n",
    "        target_size=(img_width, img_height),\n",
    "        batch_size=batch_size,\n",
    "        class_mode = class_mode,\n",
    "        shuffle = False ,\n",
    "        seed = seed)\n",
    "\n",
    "# test_generator = datagen.flow_from_directory(\n",
    "#         test_cell,\n",
    "#         target_size = (img_width, img_height),\n",
    "#         batch_size = 1,\n",
    "#         class_mode = None,\n",
    "#         shuffle = False,\n",
    "#         seed = seed\n",
    "#         )"
   ]
  },
  {
   "cell_type": "code",
   "execution_count": 6,
   "metadata": {},
   "outputs": [
    {
     "name": "stderr",
     "output_type": "stream",
     "text": [
      "/home/cheyu/.local/lib/python3.6/site-packages/ipykernel_launcher.py:2: UserWarning: Update your `Conv2D` call to the Keras 2 API: `Conv2D(32, (3, 3), input_shape=(240, 320,...)`\n",
      "  \n",
      "/home/cheyu/.local/lib/python3.6/site-packages/ipykernel_launcher.py:6: UserWarning: Update your `Conv2D` call to the Keras 2 API: `Conv2D(32, (3, 3))`\n",
      "  \n",
      "/home/cheyu/.local/lib/python3.6/site-packages/ipykernel_launcher.py:10: UserWarning: Update your `Conv2D` call to the Keras 2 API: `Conv2D(64, (3, 3))`\n",
      "  # Remove the CWD from sys.path while we load stuff.\n"
     ]
    }
   ],
   "source": [
    "model = Sequential()\n",
    "model.add(Convolution2D(32, 3, 3, input_shape=(img_width, img_height,3)))\n",
    "model.add(Activation('relu'))\n",
    "model.add(MaxPooling2D(pool_size=(2, 2)))\n",
    "\n",
    "model.add(Convolution2D(32, 3, 3))\n",
    "model.add(Activation('relu'))\n",
    "model.add(MaxPooling2D(pool_size=(2, 2)))\n",
    "\n",
    "model.add(Convolution2D(64, 3, 3))\n",
    "model.add(Activation('relu'))\n",
    "model.add(MaxPooling2D(pool_size=(2, 2)))\n",
    "\n",
    "model.add(Flatten())\n",
    "model.add(Dense(64))\n",
    "model.add(Activation('relu'))\n",
    "model.add(Dropout(0.5))\n",
    "model.add(Dense(1))\n",
    "model.add(Activation('sigmoid'))"
   ]
  },
  {
   "cell_type": "code",
   "execution_count": 7,
   "metadata": {},
   "outputs": [],
   "source": [
    "model.compile(loss='binary_crossentropy',\n",
    "              optimizer='rmsprop',\n",
    "              metrics=['accuracy'])"
   ]
  },
  {
   "cell_type": "code",
   "execution_count": 8,
   "metadata": {},
   "outputs": [
    {
     "name": "stdout",
     "output_type": "stream",
     "text": [
      "_________________________________________________________________\n",
      "Layer (type)                 Output Shape              Param #   \n",
      "=================================================================\n",
      "conv2d_1 (Conv2D)            (None, 238, 318, 32)      896       \n",
      "_________________________________________________________________\n",
      "activation_1 (Activation)    (None, 238, 318, 32)      0         \n",
      "_________________________________________________________________\n",
      "max_pooling2d_1 (MaxPooling2 (None, 119, 159, 32)      0         \n",
      "_________________________________________________________________\n",
      "conv2d_2 (Conv2D)            (None, 117, 157, 32)      9248      \n",
      "_________________________________________________________________\n",
      "activation_2 (Activation)    (None, 117, 157, 32)      0         \n",
      "_________________________________________________________________\n",
      "max_pooling2d_2 (MaxPooling2 (None, 58, 78, 32)        0         \n",
      "_________________________________________________________________\n",
      "conv2d_3 (Conv2D)            (None, 56, 76, 64)        18496     \n",
      "_________________________________________________________________\n",
      "activation_3 (Activation)    (None, 56, 76, 64)        0         \n",
      "_________________________________________________________________\n",
      "max_pooling2d_3 (MaxPooling2 (None, 28, 38, 64)        0         \n",
      "_________________________________________________________________\n",
      "flatten_1 (Flatten)          (None, 68096)             0         \n",
      "_________________________________________________________________\n",
      "dense_1 (Dense)              (None, 64)                4358208   \n",
      "_________________________________________________________________\n",
      "activation_4 (Activation)    (None, 64)                0         \n",
      "_________________________________________________________________\n",
      "dropout_1 (Dropout)          (None, 64)                0         \n",
      "_________________________________________________________________\n",
      "dense_2 (Dense)              (None, 1)                 65        \n",
      "_________________________________________________________________\n",
      "activation_5 (Activation)    (None, 1)                 0         \n",
      "=================================================================\n",
      "Total params: 4,386,913\n",
      "Trainable params: 4,386,913\n",
      "Non-trainable params: 0\n",
      "_________________________________________________________________\n"
     ]
    }
   ],
   "source": [
    "model.summary()"
   ]
  },
  {
   "cell_type": "code",
   "execution_count": 9,
   "metadata": {},
   "outputs": [],
   "source": [
    "# 設定checkpoint & callbacks\n",
    "from keras.callbacks import EarlyStopping\n",
    "from keras.callbacks import ReduceLROnPlateau\n",
    "from keras.callbacks import ModelCheckpoint\n",
    "def callbacks(name):\n",
    "    save_dir = \"checkpoint\"\n",
    "    #     tl.files.exists_or_mkdir(save_dir)\n",
    "    path=save_dir+'/model_check_'+name+'.h5'\n",
    "    callbacks = [\n",
    "#         EarlyStopping(patience=15, verbose=1),\n",
    "        ReduceLROnPlateau(factor=0.1, patience=10, min_lr=0.000001, verbose=1),\n",
    "        ModelCheckpoint(path, verbose=1, save_best_only=True, save_weights_only=False)\n",
    "#         ModelCheckpoint(path,monitor='val_acc', verbose=1,\n",
    "#                         save_best_only=True, save_weights_only=False)\n",
    "    ]\n",
    "    return callbacks"
   ]
  },
  {
   "cell_type": "code",
   "execution_count": 10,
   "metadata": {},
   "outputs": [
    {
     "name": "stdout",
     "output_type": "stream",
     "text": [
      "Found 4980 images belonging to 2 classes.\n"
     ]
    }
   ],
   "source": [
    "train_datagen_augmented = ImageDataGenerator(\n",
    "        rescale=1./255,        # normalize pixel values to [0,1]\n",
    "        shear_range=0.2,       # randomly applies shearing transformation\n",
    "        zoom_range=0.2,        # randomly applies shearing transformation\n",
    "        horizontal_flip=True)  # randomly flip the images\n",
    "\n",
    "# same code as before\n",
    "train_generator_augmented = train_datagen_augmented.flow_from_directory(\n",
    "        train_cell,\n",
    "        target_size=(img_width, img_height),\n",
    "        batch_size=batch_size,\n",
    "        class_mode=class_mode,\n",
    "        shuffle = True,\n",
    "        seed = seed)"
   ]
  },
  {
   "cell_type": "code",
   "execution_count": 11,
   "metadata": {},
   "outputs": [],
   "source": [
    "num_of_train_samples  =  train_generator_augmented.classes.shape[0]\n",
    "num_of_test_samples = validation_generator.classes.shape[0]"
   ]
  },
  {
   "cell_type": "code",
   "execution_count": 12,
   "metadata": {},
   "outputs": [
    {
     "name": "stdout",
     "output_type": "stream",
     "text": [
      "Epoch 1/100\n",
      "32/32 [==============================] - 68s 2s/step - loss: 0.8064 - acc: 0.5029 - val_loss: 0.6907 - val_acc: 0.6035\n",
      "\n",
      "Epoch 00001: val_loss improved from inf to 0.69074, saving model to checkpoint/model_check_2019-03-15_1_fit.h5\n",
      "Epoch 2/100\n",
      "32/32 [==============================] - 65s 2s/step - loss: 0.7083 - acc: 0.5322 - val_loss: 0.6902 - val_acc: 0.6192\n",
      "\n",
      "Epoch 00002: val_loss improved from 0.69074 to 0.69015, saving model to checkpoint/model_check_2019-03-15_1_fit.h5\n",
      "Epoch 3/100\n",
      "32/32 [==============================] - 64s 2s/step - loss: 0.6975 - acc: 0.5439 - val_loss: 0.6904 - val_acc: 0.6438\n",
      "\n",
      "Epoch 00003: val_loss did not improve from 0.69015\n",
      "Epoch 4/100\n",
      "32/32 [==============================] - 65s 2s/step - loss: 0.6857 - acc: 0.5645 - val_loss: 0.6558 - val_acc: 0.5859\n",
      "\n",
      "Epoch 00004: val_loss improved from 0.69015 to 0.65583, saving model to checkpoint/model_check_2019-03-15_1_fit.h5\n",
      "Epoch 5/100\n",
      "32/32 [==============================] - 64s 2s/step - loss: 0.6845 - acc: 0.5882 - val_loss: 0.6527 - val_acc: 0.6084\n",
      "\n",
      "Epoch 00005: val_loss improved from 0.65583 to 0.65270, saving model to checkpoint/model_check_2019-03-15_1_fit.h5\n",
      "Epoch 6/100\n",
      "32/32 [==============================] - 64s 2s/step - loss: 0.6615 - acc: 0.6133 - val_loss: 0.6675 - val_acc: 0.5898\n",
      "\n",
      "Epoch 00006: val_loss did not improve from 0.65270\n",
      "Epoch 7/100\n",
      "32/32 [==============================] - 64s 2s/step - loss: 0.6441 - acc: 0.6758 - val_loss: 0.6086 - val_acc: 0.6879\n",
      "\n",
      "Epoch 00007: val_loss improved from 0.65270 to 0.60863, saving model to checkpoint/model_check_2019-03-15_1_fit.h5\n",
      "Epoch 8/100\n",
      "32/32 [==============================] - 63s 2s/step - loss: 0.6239 - acc: 0.6494 - val_loss: 0.6322 - val_acc: 0.5957\n",
      "\n",
      "Epoch 00008: val_loss did not improve from 0.60863\n",
      "Epoch 9/100\n",
      "32/32 [==============================] - 62s 2s/step - loss: 0.5994 - acc: 0.6475 - val_loss: 0.5904 - val_acc: 0.6860\n",
      "\n",
      "Epoch 00009: val_loss improved from 0.60863 to 0.59043, saving model to checkpoint/model_check_2019-03-15_1_fit.h5\n",
      "Epoch 10/100\n",
      "32/32 [==============================] - 63s 2s/step - loss: 0.5861 - acc: 0.7000 - val_loss: 0.5778 - val_acc: 0.6801\n",
      "\n",
      "Epoch 00010: val_loss improved from 0.59043 to 0.57777, saving model to checkpoint/model_check_2019-03-15_1_fit.h5\n",
      "Epoch 11/100\n",
      "32/32 [==============================] - 63s 2s/step - loss: 0.5154 - acc: 0.7188 - val_loss: 0.7154 - val_acc: 0.5692\n",
      "\n",
      "Epoch 00011: val_loss did not improve from 0.57777\n",
      "Epoch 12/100\n",
      "32/32 [==============================] - 64s 2s/step - loss: 0.5807 - acc: 0.6768 - val_loss: 0.5611 - val_acc: 0.7588\n",
      "\n",
      "Epoch 00012: val_loss improved from 0.57777 to 0.56111, saving model to checkpoint/model_check_2019-03-15_1_fit.h5\n",
      "Epoch 13/100\n",
      "32/32 [==============================] - 63s 2s/step - loss: 0.5620 - acc: 0.7041 - val_loss: 0.5755 - val_acc: 0.7026\n",
      "\n",
      "Epoch 00013: val_loss did not improve from 0.56111\n",
      "Epoch 14/100\n",
      "32/32 [==============================] - 62s 2s/step - loss: 0.5261 - acc: 0.7129 - val_loss: 0.5011 - val_acc: 0.7723\n",
      "\n",
      "Epoch 00014: val_loss improved from 0.56111 to 0.50113, saving model to checkpoint/model_check_2019-03-15_1_fit.h5\n",
      "Epoch 15/100\n",
      "32/32 [==============================] - 63s 2s/step - loss: 0.5454 - acc: 0.7231 - val_loss: 0.5632 - val_acc: 0.7017\n",
      "\n",
      "Epoch 00015: val_loss did not improve from 0.50113\n",
      "Epoch 16/100\n",
      "32/32 [==============================] - 63s 2s/step - loss: 0.4317 - acc: 0.7686 - val_loss: 0.4489 - val_acc: 0.7851\n",
      "\n",
      "Epoch 00016: val_loss improved from 0.50113 to 0.44885, saving model to checkpoint/model_check_2019-03-15_1_fit.h5\n",
      "Epoch 17/100\n",
      "32/32 [==============================] - 62s 2s/step - loss: 0.5506 - acc: 0.7666 - val_loss: 0.4347 - val_acc: 0.7822\n",
      "\n",
      "Epoch 00017: val_loss improved from 0.44885 to 0.43473, saving model to checkpoint/model_check_2019-03-15_1_fit.h5\n",
      "Epoch 18/100\n",
      "32/32 [==============================] - 62s 2s/step - loss: 0.4618 - acc: 0.7666 - val_loss: 0.5060 - val_acc: 0.7723\n",
      "\n",
      "Epoch 00018: val_loss did not improve from 0.43473\n",
      "Epoch 19/100\n",
      "32/32 [==============================] - 62s 2s/step - loss: 0.4214 - acc: 0.7930 - val_loss: 0.4292 - val_acc: 0.7920\n",
      "\n",
      "Epoch 00019: val_loss improved from 0.43473 to 0.42922, saving model to checkpoint/model_check_2019-03-15_1_fit.h5\n",
      "Epoch 20/100\n",
      "32/32 [==============================] - 61s 2s/step - loss: 0.4517 - acc: 0.7696 - val_loss: 0.4587 - val_acc: 0.7704\n",
      "\n",
      "Epoch 00020: val_loss did not improve from 0.42922\n",
      "Epoch 21/100\n",
      "32/32 [==============================] - 61s 2s/step - loss: 0.4479 - acc: 0.7920 - val_loss: 0.3779 - val_acc: 0.8391\n",
      "\n",
      "Epoch 00021: val_loss improved from 0.42922 to 0.37785, saving model to checkpoint/model_check_2019-03-15_1_fit.h5\n",
      "Epoch 22/100\n",
      "32/32 [==============================] - 62s 2s/step - loss: 0.3758 - acc: 0.8271 - val_loss: 0.7115 - val_acc: 0.5653\n",
      "\n",
      "Epoch 00022: val_loss did not improve from 0.37785\n",
      "Epoch 23/100\n",
      "32/32 [==============================] - 62s 2s/step - loss: 0.4874 - acc: 0.7861 - val_loss: 0.4534 - val_acc: 0.8438\n",
      "\n",
      "Epoch 00023: val_loss did not improve from 0.37785\n",
      "Epoch 24/100\n",
      "32/32 [==============================] - 62s 2s/step - loss: 0.3044 - acc: 0.8662 - val_loss: 0.3064 - val_acc: 0.8950\n",
      "\n",
      "Epoch 00024: val_loss improved from 0.37785 to 0.30644, saving model to checkpoint/model_check_2019-03-15_1_fit.h5\n",
      "Epoch 25/100\n",
      "32/32 [==============================] - 61s 2s/step - loss: 0.4639 - acc: 0.8289 - val_loss: 0.3530 - val_acc: 0.8332\n",
      "\n",
      "Epoch 00025: val_loss did not improve from 0.30644\n",
      "Epoch 26/100\n",
      "32/32 [==============================] - 62s 2s/step - loss: 0.2298 - acc: 0.8906 - val_loss: 1.7337 - val_acc: 0.4524\n",
      "\n",
      "Epoch 00026: val_loss did not improve from 0.30644\n",
      "Epoch 27/100\n",
      "32/32 [==============================] - 62s 2s/step - loss: 0.3561 - acc: 0.8623 - val_loss: 0.2669 - val_acc: 0.8911\n",
      "\n",
      "Epoch 00027: val_loss improved from 0.30644 to 0.26688, saving model to checkpoint/model_check_2019-03-15_1_fit.h5\n",
      "Epoch 28/100\n",
      "32/32 [==============================] - 61s 2s/step - loss: 0.2875 - acc: 0.8760 - val_loss: 0.3065 - val_acc: 0.8730\n",
      "\n",
      "Epoch 00028: val_loss did not improve from 0.26688\n",
      "Epoch 29/100\n",
      "32/32 [==============================] - 63s 2s/step - loss: 0.2614 - acc: 0.9014 - val_loss: 0.2348 - val_acc: 0.9097\n",
      "\n",
      "Epoch 00029: val_loss improved from 0.26688 to 0.23484, saving model to checkpoint/model_check_2019-03-15_1_fit.h5\n",
      "Epoch 30/100\n",
      "32/32 [==============================] - 62s 2s/step - loss: 0.3525 - acc: 0.8906 - val_loss: 0.2310 - val_acc: 0.9215\n",
      "\n",
      "Epoch 00030: val_loss improved from 0.23484 to 0.23098, saving model to checkpoint/model_check_2019-03-15_1_fit.h5\n",
      "Epoch 31/100\n",
      "32/32 [==============================] - 62s 2s/step - loss: 0.1615 - acc: 0.9385 - val_loss: 0.2036 - val_acc: 0.9107\n",
      "\n",
      "Epoch 00031: val_loss improved from 0.23098 to 0.20365, saving model to checkpoint/model_check_2019-03-15_1_fit.h5\n",
      "Epoch 32/100\n",
      "32/32 [==============================] - 62s 2s/step - loss: 0.2311 - acc: 0.9160 - val_loss: 0.2388 - val_acc: 0.9136\n",
      "\n",
      "Epoch 00032: val_loss did not improve from 0.20365\n",
      "Epoch 33/100\n",
      "32/32 [==============================] - 63s 2s/step - loss: 0.1315 - acc: 0.9521 - val_loss: 0.2011 - val_acc: 0.9019\n",
      "\n",
      "Epoch 00033: val_loss improved from 0.20365 to 0.20114, saving model to checkpoint/model_check_2019-03-15_1_fit.h5\n",
      "Epoch 34/100\n",
      "32/32 [==============================] - 62s 2s/step - loss: 0.1915 - acc: 0.9268 - val_loss: 0.2600 - val_acc: 0.8408\n",
      "\n",
      "Epoch 00034: val_loss did not improve from 0.20114\n",
      "Epoch 35/100\n",
      "32/32 [==============================] - 61s 2s/step - loss: 0.1838 - acc: 0.9295 - val_loss: 0.2222 - val_acc: 0.8803\n",
      "\n",
      "Epoch 00035: val_loss did not improve from 0.20114\n",
      "Epoch 36/100\n",
      "32/32 [==============================] - 63s 2s/step - loss: 0.3645 - acc: 0.9336 - val_loss: 0.3308 - val_acc: 0.8842\n",
      "\n",
      "Epoch 00036: val_loss did not improve from 0.20114\n",
      "Epoch 37/100\n",
      "32/32 [==============================] - 65s 2s/step - loss: 0.1215 - acc: 0.9561 - val_loss: 0.1512 - val_acc: 0.9401\n",
      "\n",
      "Epoch 00037: val_loss improved from 0.20114 to 0.15122, saving model to checkpoint/model_check_2019-03-15_1_fit.h5\n",
      "Epoch 38/100\n",
      "32/32 [==============================] - 63s 2s/step - loss: 0.0765 - acc: 0.9707 - val_loss: 0.2039 - val_acc: 0.8793\n"
     ]
    },
    {
     "name": "stdout",
     "output_type": "stream",
     "text": [
      "\n",
      "Epoch 00038: val_loss did not improve from 0.15122\n",
      "Epoch 39/100\n",
      "32/32 [==============================] - 66s 2s/step - loss: 0.1737 - acc: 0.9564 - val_loss: 0.1579 - val_acc: 0.9097\n",
      "\n",
      "Epoch 00039: val_loss did not improve from 0.15122\n",
      "Epoch 40/100\n",
      "32/32 [==============================] - 63s 2s/step - loss: 0.2344 - acc: 0.9639 - val_loss: 0.1655 - val_acc: 0.9160\n",
      "\n",
      "Epoch 00040: val_loss did not improve from 0.15122\n",
      "Epoch 41/100\n",
      "32/32 [==============================] - 65s 2s/step - loss: 0.2031 - acc: 0.9502 - val_loss: 0.1588 - val_acc: 0.9313\n",
      "\n",
      "Epoch 00041: val_loss did not improve from 0.15122\n",
      "Epoch 42/100\n",
      "32/32 [==============================] - 69s 2s/step - loss: 0.0634 - acc: 0.9736 - val_loss: 0.2573 - val_acc: 0.8597\n",
      "\n",
      "Epoch 00042: val_loss did not improve from 0.15122\n",
      "Epoch 43/100\n",
      "32/32 [==============================] - 69s 2s/step - loss: 0.1411 - acc: 0.9619 - val_loss: 0.1313 - val_acc: 0.9274\n",
      "\n",
      "Epoch 00043: val_loss improved from 0.15122 to 0.13130, saving model to checkpoint/model_check_2019-03-15_1_fit.h5\n",
      "Epoch 44/100\n",
      "32/32 [==============================] - 72s 2s/step - loss: 0.1441 - acc: 0.9555 - val_loss: 0.1185 - val_acc: 0.9460\n",
      "\n",
      "Epoch 00044: val_loss improved from 0.13130 to 0.11852, saving model to checkpoint/model_check_2019-03-15_1_fit.h5\n",
      "Epoch 45/100\n",
      "32/32 [==============================] - 74s 2s/step - loss: 0.0699 - acc: 0.9814 - val_loss: 0.2646 - val_acc: 0.8779\n",
      "\n",
      "Epoch 00045: val_loss did not improve from 0.11852\n",
      "Epoch 46/100\n",
      "32/32 [==============================] - 70s 2s/step - loss: 0.0689 - acc: 0.9756 - val_loss: 0.1973 - val_acc: 0.8970\n",
      "\n",
      "Epoch 00046: val_loss did not improve from 0.11852\n",
      "Epoch 47/100\n",
      "32/32 [==============================] - 70s 2s/step - loss: 0.2202 - acc: 0.9375 - val_loss: 0.2905 - val_acc: 0.8263\n",
      "\n",
      "Epoch 00047: val_loss did not improve from 0.11852\n",
      "Epoch 48/100\n",
      "32/32 [==============================] - 69s 2s/step - loss: 0.0604 - acc: 0.9805 - val_loss: 0.1439 - val_acc: 0.9127\n",
      "\n",
      "Epoch 00048: val_loss did not improve from 0.11852\n",
      "Epoch 49/100\n",
      "32/32 [==============================] - 68s 2s/step - loss: 0.1132 - acc: 0.9619 - val_loss: 1.4407 - val_acc: 0.4161\n",
      "\n",
      "Epoch 00049: val_loss did not improve from 0.11852\n",
      "Epoch 50/100\n",
      "32/32 [==============================] - 69s 2s/step - loss: 0.2288 - acc: 0.9365 - val_loss: 0.2135 - val_acc: 0.8940\n",
      "\n",
      "Epoch 00050: val_loss did not improve from 0.11852\n",
      "Epoch 51/100\n",
      "32/32 [==============================] - 65s 2s/step - loss: 0.0598 - acc: 0.9785 - val_loss: 0.1891 - val_acc: 0.8936\n",
      "\n",
      "Epoch 00051: val_loss did not improve from 0.11852\n",
      "Epoch 52/100\n",
      "32/32 [==============================] - 66s 2s/step - loss: 0.1567 - acc: 0.9629 - val_loss: 0.2222 - val_acc: 0.8714\n",
      "\n",
      "Epoch 00052: val_loss did not improve from 0.11852\n",
      "Epoch 53/100\n",
      "32/32 [==============================] - 67s 2s/step - loss: 0.0357 - acc: 0.9873 - val_loss: 0.1947 - val_acc: 0.8803\n",
      "\n",
      "Epoch 00053: val_loss did not improve from 0.11852\n",
      "Epoch 54/100\n",
      "32/32 [==============================] - 66s 2s/step - loss: 0.0965 - acc: 0.9736 - val_loss: 0.1248 - val_acc: 0.9303\n",
      "\n",
      "Epoch 00054: ReduceLROnPlateau reducing learning rate to 0.00010000000474974513.\n",
      "\n",
      "Epoch 00054: val_loss did not improve from 0.11852\n",
      "Epoch 55/100\n",
      "32/32 [==============================] - 68s 2s/step - loss: 0.0254 - acc: 0.9902 - val_loss: 0.1367 - val_acc: 0.9205\n",
      "\n",
      "Epoch 00055: val_loss did not improve from 0.11852\n",
      "Epoch 56/100\n",
      "32/32 [==============================] - 69s 2s/step - loss: 0.0126 - acc: 0.9980 - val_loss: 0.1292 - val_acc: 0.9219\n",
      "\n",
      "Epoch 00056: val_loss did not improve from 0.11852\n",
      "Epoch 57/100\n",
      "32/32 [==============================] - 65s 2s/step - loss: 0.0225 - acc: 0.9932 - val_loss: 0.2216 - val_acc: 0.8783\n",
      "\n",
      "Epoch 00057: val_loss did not improve from 0.11852\n",
      "Epoch 58/100\n",
      "32/32 [==============================] - 65s 2s/step - loss: 0.0158 - acc: 0.9961 - val_loss: 0.1711 - val_acc: 0.9038\n",
      "\n",
      "Epoch 00058: val_loss did not improve from 0.11852\n",
      "Epoch 59/100\n",
      "32/32 [==============================] - 65s 2s/step - loss: 0.0197 - acc: 0.9951 - val_loss: 0.1283 - val_acc: 0.9333\n",
      "\n",
      "Epoch 00059: val_loss did not improve from 0.11852\n",
      "Epoch 60/100\n",
      "32/32 [==============================] - 65s 2s/step - loss: 0.0173 - acc: 0.9961 - val_loss: 0.1008 - val_acc: 0.9470\n",
      "\n",
      "Epoch 00060: val_loss improved from 0.11852 to 0.10076, saving model to checkpoint/model_check_2019-03-15_1_fit.h5\n",
      "Epoch 61/100\n",
      "32/32 [==============================] - 71s 2s/step - loss: 0.0212 - acc: 0.9922 - val_loss: 0.1155 - val_acc: 0.9421\n",
      "\n",
      "Epoch 00061: val_loss did not improve from 0.10076\n",
      "Epoch 62/100\n",
      "32/32 [==============================] - 70s 2s/step - loss: 0.0205 - acc: 0.9941 - val_loss: 0.1292 - val_acc: 0.9277\n",
      "\n",
      "Epoch 00062: val_loss did not improve from 0.10076\n",
      "Epoch 63/100\n",
      "32/32 [==============================] - 65s 2s/step - loss: 0.0151 - acc: 0.9951 - val_loss: 0.1375 - val_acc: 0.9185\n",
      "\n",
      "Epoch 00063: val_loss did not improve from 0.10076\n",
      "Epoch 64/100\n",
      "32/32 [==============================] - 66s 2s/step - loss: 0.0235 - acc: 0.9932 - val_loss: 0.1699 - val_acc: 0.8970\n",
      "\n",
      "Epoch 00064: val_loss did not improve from 0.10076\n",
      "Epoch 65/100\n",
      "32/32 [==============================] - 65s 2s/step - loss: 0.0233 - acc: 0.9893 - val_loss: 0.1033 - val_acc: 0.9411\n",
      "\n",
      "Epoch 00065: val_loss did not improve from 0.10076\n",
      "Epoch 66/100\n",
      "32/32 [==============================] - 84s 3s/step - loss: 0.0149 - acc: 0.9932 - val_loss: 0.0947 - val_acc: 0.9539\n",
      "\n",
      "Epoch 00066: val_loss improved from 0.10076 to 0.09474, saving model to checkpoint/model_check_2019-03-15_1_fit.h5\n",
      "Epoch 67/100\n",
      "32/32 [==============================] - 82s 3s/step - loss: 0.0138 - acc: 0.9961 - val_loss: 0.1052 - val_acc: 0.9424\n",
      "\n",
      "Epoch 00067: val_loss did not improve from 0.09474\n",
      "Epoch 68/100\n",
      "32/32 [==============================] - 74s 2s/step - loss: 0.0130 - acc: 0.9971 - val_loss: 0.1952 - val_acc: 0.8930\n",
      "\n",
      "Epoch 00068: val_loss did not improve from 0.09474\n",
      "Epoch 69/100\n",
      "32/32 [==============================] - 70s 2s/step - loss: 0.0168 - acc: 0.9961 - val_loss: 0.1638 - val_acc: 0.9019\n",
      "\n",
      "Epoch 00069: val_loss did not improve from 0.09474\n",
      "Epoch 70/100\n",
      "32/32 [==============================] - 80s 3s/step - loss: 0.0121 - acc: 0.9971 - val_loss: 0.1328 - val_acc: 0.9274\n",
      "\n",
      "Epoch 00070: val_loss did not improve from 0.09474\n",
      "Epoch 71/100\n",
      "32/32 [==============================] - 78s 2s/step - loss: 0.0190 - acc: 0.9951 - val_loss: 0.0922 - val_acc: 0.9500\n",
      "\n",
      "Epoch 00071: val_loss improved from 0.09474 to 0.09217, saving model to checkpoint/model_check_2019-03-15_1_fit.h5\n",
      "Epoch 72/100\n",
      "32/32 [==============================] - 69s 2s/step - loss: 0.0130 - acc: 0.9951 - val_loss: 0.1311 - val_acc: 0.9254\n",
      "\n",
      "Epoch 00072: val_loss did not improve from 0.09217\n",
      "Epoch 73/100\n",
      "32/32 [==============================] - 76s 2s/step - loss: 0.0161 - acc: 0.9932 - val_loss: 0.1171 - val_acc: 0.9385\n",
      "\n",
      "Epoch 00073: val_loss did not improve from 0.09217\n",
      "Epoch 74/100\n",
      "32/32 [==============================] - 81s 3s/step - loss: 0.0097 - acc: 0.9971 - val_loss: 0.1913 - val_acc: 0.9048\n",
      "\n",
      "Epoch 00074: val_loss did not improve from 0.09217\n",
      "Epoch 75/100\n",
      "32/32 [==============================] - 90s 3s/step - loss: 0.0164 - acc: 0.9971 - val_loss: 0.1691 - val_acc: 0.9038\n",
      "\n",
      "Epoch 00075: val_loss did not improve from 0.09217\n",
      "Epoch 76/100\n",
      "32/32 [==============================] - 102s 3s/step - loss: 0.0105 - acc: 0.9971 - val_loss: 0.1295 - val_acc: 0.9303\n",
      "\n",
      "Epoch 00076: val_loss did not improve from 0.09217\n",
      "Epoch 77/100\n",
      "32/32 [==============================] - 82s 3s/step - loss: 0.0223 - acc: 0.9902 - val_loss: 0.1185 - val_acc: 0.9323\n",
      "\n",
      "Epoch 00077: val_loss did not improve from 0.09217\n",
      "Epoch 78/100\n",
      "32/32 [==============================] - 88s 3s/step - loss: 0.0125 - acc: 0.9961 - val_loss: 0.1296 - val_acc: 0.9235\n",
      "\n",
      "Epoch 00078: val_loss did not improve from 0.09217\n",
      "Epoch 79/100\n",
      "32/32 [==============================] - 83s 3s/step - loss: 0.0077 - acc: 0.9990 - val_loss: 0.1167 - val_acc: 0.9424\n",
      "\n",
      "Epoch 00079: val_loss did not improve from 0.09217\n",
      "Epoch 80/100\n",
      "32/32 [==============================] - 78s 2s/step - loss: 0.0072 - acc: 0.9971 - val_loss: 0.2624 - val_acc: 0.8950\n",
      "\n",
      "Epoch 00080: val_loss did not improve from 0.09217\n",
      "Epoch 81/100\n"
     ]
    },
    {
     "name": "stdout",
     "output_type": "stream",
     "text": [
      "32/32 [==============================] - 77s 2s/step - loss: 0.0153 - acc: 0.9961 - val_loss: 0.1015 - val_acc: 0.9460\n",
      "\n",
      "Epoch 00081: ReduceLROnPlateau reducing learning rate to 1.0000000474974514e-05.\n",
      "\n",
      "Epoch 00081: val_loss did not improve from 0.09217\n",
      "Epoch 82/100\n",
      "32/32 [==============================] - 90s 3s/step - loss: 0.0183 - acc: 0.9912 - val_loss: 0.0967 - val_acc: 0.9529\n",
      "\n",
      "Epoch 00082: val_loss did not improve from 0.09217\n",
      "Epoch 83/100\n",
      "32/32 [==============================] - 80s 2s/step - loss: 0.0127 - acc: 0.9961 - val_loss: 0.1136 - val_acc: 0.9362\n",
      "\n",
      "Epoch 00083: val_loss did not improve from 0.09217\n",
      "Epoch 84/100\n",
      "32/32 [==============================] - 82s 3s/step - loss: 0.0135 - acc: 0.9941 - val_loss: 0.1320 - val_acc: 0.9355\n",
      "\n",
      "Epoch 00084: val_loss did not improve from 0.09217\n",
      "Epoch 85/100\n",
      "32/32 [==============================] - 88s 3s/step - loss: 0.0110 - acc: 0.9961 - val_loss: 0.1663 - val_acc: 0.9215\n",
      "\n",
      "Epoch 00085: val_loss did not improve from 0.09217\n",
      "Epoch 86/100\n",
      "32/32 [==============================] - 84s 3s/step - loss: 0.0094 - acc: 0.9980 - val_loss: 0.1529 - val_acc: 0.9185\n",
      "\n",
      "Epoch 00086: val_loss did not improve from 0.09217\n",
      "Epoch 87/100\n",
      "32/32 [==============================] - 73s 2s/step - loss: 0.0173 - acc: 0.9922 - val_loss: 0.0970 - val_acc: 0.9480\n",
      "\n",
      "Epoch 00087: val_loss did not improve from 0.09217\n",
      "Epoch 88/100\n",
      "32/32 [==============================] - 70s 2s/step - loss: 0.0074 - acc: 0.9971 - val_loss: 0.0980 - val_acc: 0.9470\n",
      "\n",
      "Epoch 00088: val_loss did not improve from 0.09217\n",
      "Epoch 89/100\n",
      "32/32 [==============================] - 73s 2s/step - loss: 0.0145 - acc: 0.9941 - val_loss: 0.0880 - val_acc: 0.9549\n",
      "\n",
      "Epoch 00089: val_loss improved from 0.09217 to 0.08801, saving model to checkpoint/model_check_2019-03-15_1_fit.h5\n",
      "Epoch 90/100\n",
      "32/32 [==============================] - 77s 2s/step - loss: 0.0128 - acc: 0.9951 - val_loss: 0.1434 - val_acc: 0.9209\n",
      "\n",
      "Epoch 00090: val_loss did not improve from 0.08801\n",
      "Epoch 91/100\n",
      "32/32 [==============================] - 73s 2s/step - loss: 0.0152 - acc: 0.9951 - val_loss: 0.1353 - val_acc: 0.9293\n",
      "\n",
      "Epoch 00091: val_loss did not improve from 0.08801\n",
      "Epoch 92/100\n",
      "32/32 [==============================] - 67s 2s/step - loss: 0.0115 - acc: 0.9971 - val_loss: 0.1360 - val_acc: 0.9352\n",
      "\n",
      "Epoch 00092: val_loss did not improve from 0.08801\n",
      "Epoch 93/100\n",
      "32/32 [==============================] - 66s 2s/step - loss: 0.0161 - acc: 0.9945 - val_loss: 0.1035 - val_acc: 0.9421\n",
      "\n",
      "Epoch 00093: val_loss did not improve from 0.08801\n",
      "Epoch 94/100\n",
      "32/32 [==============================] - 79s 2s/step - loss: 0.0151 - acc: 0.9932 - val_loss: 0.0980 - val_acc: 0.9421\n",
      "\n",
      "Epoch 00094: val_loss did not improve from 0.08801\n",
      "Epoch 95/100\n",
      "32/32 [==============================] - 82s 3s/step - loss: 0.0147 - acc: 0.9932 - val_loss: 0.1015 - val_acc: 0.9463\n",
      "\n",
      "Epoch 00095: val_loss did not improve from 0.08801\n",
      "Epoch 96/100\n",
      "32/32 [==============================] - 75s 2s/step - loss: 0.0078 - acc: 0.9971 - val_loss: 0.1243 - val_acc: 0.9392\n",
      "\n",
      "Epoch 00096: val_loss did not improve from 0.08801\n",
      "Epoch 97/100\n",
      "32/32 [==============================] - 68s 2s/step - loss: 0.0149 - acc: 0.9951 - val_loss: 0.1394 - val_acc: 0.9205\n",
      "\n",
      "Epoch 00097: val_loss did not improve from 0.08801\n",
      "Epoch 98/100\n",
      "32/32 [==============================] - 68s 2s/step - loss: 0.0101 - acc: 0.9951 - val_loss: 0.1179 - val_acc: 0.9441\n",
      "\n",
      "Epoch 00098: val_loss did not improve from 0.08801\n",
      "Epoch 99/100\n",
      "32/32 [==============================] - 71s 2s/step - loss: 0.0142 - acc: 0.9941 - val_loss: 0.1182 - val_acc: 0.9382\n",
      "\n",
      "Epoch 00099: ReduceLROnPlateau reducing learning rate to 1.0000000656873453e-06.\n",
      "\n",
      "Epoch 00099: val_loss did not improve from 0.08801\n",
      "Epoch 100/100\n",
      "32/32 [==============================] - 76s 2s/step - loss: 0.0166 - acc: 0.9932 - val_loss: 0.1039 - val_acc: 0.9500\n",
      "\n",
      "Epoch 00100: val_loss did not improve from 0.08801\n"
     ]
    }
   ],
   "source": [
    "history = model.fit_generator(\n",
    "        train_generator_augmented,\n",
    "        steps_per_epoch= batch_size,\n",
    "        validation_data=validation_generator,\n",
    "        validation_steps= batch_size,\n",
    "        epochs = epochs,\n",
    "        callbacks=callbacks(date+'_fit'))"
   ]
  },
  {
   "cell_type": "code",
   "execution_count": 13,
   "metadata": {},
   "outputs": [
    {
     "name": "stdout",
     "output_type": "stream",
     "text": [
      "dict_keys(['val_loss', 'val_acc', 'loss', 'acc', 'lr'])\n"
     ]
    },
    {
     "data": {
      "image/png": "[encoded data removed]",
      "text/plain": [
       "<Figure size 432x288 with 1 Axes>"
      ]
     },
     "metadata": {
      "needs_background": "light"
     },
     "output_type": "display_data"
    },
    {
     "data": {
      "image/png": "[encoded data removed]",
      "text/plain": [
       "<Figure size 432x288 with 1 Axes>"
      ]
     },
     "metadata": {
      "needs_background": "light"
     },
     "output_type": "display_data"
    }
   ],
   "source": [
    "history_plot(history)"
   ]
  },
  {
   "cell_type": "code",
   "execution_count": 14,
   "metadata": {},
   "outputs": [],
   "source": [
    "# Load CheckPoint\n",
    "# from keras.models import load_model\n",
    "# model= load_model('./checkpoint/model_check_2019-03-14_1_fit.h5')"
   ]
  },
  {
   "cell_type": "code",
   "execution_count": 30,
   "metadata": {},
   "outputs": [
    {
     "name": "stdout",
     "output_type": "stream",
     "text": [
      "1243/1243 [==============================] - 864s 695ms/step\n"
     ]
    },
    {
     "data": {
      "text/plain": [
       "[0.11679165855613304, 0.9406123016114123]"
      ]
     },
     "execution_count": 30,
     "metadata": {},
     "output_type": "execute_result"
    }
   ],
   "source": [
    "model.evaluate_generator(generator=validation_generator,\n",
    "#                          steps=validation_generator.classes.shape[0]//32 +1,\n",
    "                         steps=validation_generator.classes.shape[0],\n",
    "                         verbose=1)"
   ]
  },
  {
   "cell_type": "code",
   "execution_count": 26,
   "metadata": {},
   "outputs": [
    {
     "name": "stdout",
     "output_type": "stream",
     "text": [
      "39/39 [==============================] - 30s 758ms/step\n"
     ]
    }
   ],
   "source": [
    "# predict the output\n",
    "Y_pred = model.predict_generator(validation_generator,\n",
    "                                 steps=num_of_test_samples//32 +1,\n",
    "                                 verbose=1)"
   ]
  },
  {
   "cell_type": "code",
   "execution_count": null,
   "metadata": {},
   "outputs": [],
   "source": []
  },
  {
   "cell_type": "code",
   "execution_count": 34,
   "metadata": {},
   "outputs": [
    {
     "data": {
      "text/plain": [
       "array([[2.1068077e-16],\n",
       "       [2.0816583e-07],\n",
       "       [2.1146565e-25],\n",
       "       ...,\n",
       "       [2.8365272e-07],\n",
       "       [4.3803061e-13],\n",
       "       [1.8527831e-09]], dtype=float32)"
      ]
     },
     "execution_count": 34,
     "metadata": {},
     "output_type": "execute_result"
    }
   ],
   "source": [
    "Y_pred"
   ]
  },
  {
   "cell_type": "code",
   "execution_count": 35,
   "metadata": {},
   "outputs": [
    {
     "name": "stdout",
     "output_type": "stream",
     "text": [
      "AUC: 0.9477346864806089\n"
     ]
    }
   ],
   "source": [
    "auc = roc_auc_score(validation_generator.classes,Y_pred)\n",
    "print(\"AUC: {}\".format(auc))\n",
    "# fpr, tpr, thresholds = roc_curve(validation_generator.classes, Y_pred)"
   ]
  },
  {
   "cell_type": "code",
   "execution_count": 36,
   "metadata": {},
   "outputs": [
    {
     "data": {
      "image/png": "[encoded data removed]",
      "text/plain": [
       "<Figure size 432x288 with 1 Axes>"
      ]
     },
     "metadata": {
      "needs_background": "light"
     },
     "output_type": "display_data"
    }
   ],
   "source": [
    "# Plot ROC curve\n",
    "plt.figure(3)\n",
    "plt.plot([0, 1], [0, 1], 'k--')\n",
    "plt.plot(fpr,tpr,label='AUC = %0.2f' % auc)\n",
    "plt.xlabel('False Positive Rate')\n",
    "plt.ylabel('True Positive Rate')\n",
    "plt.title('ROC Curve')\n",
    "# plt.show()\n",
    "plt.savefig(\"roc_curve.png\",dpi=300)"
   ]
  },
  {
   "cell_type": "code",
   "execution_count": 19,
   "metadata": {},
   "outputs": [],
   "source": [
    "# read image function , used to make ,but now is useless\n",
    "def read_dir_img(dir_path,cell):\n",
    "    all_img=[]\n",
    "    label=[]\n",
    "    for filename in os.listdir(dir_path):\n",
    "        if cell == 'EOSINOPHIL':\n",
    "            label.append(0)\n",
    "        elif cell == 'LYMPHOCYTE':\n",
    "            label.append(1)\n",
    "        else :\n",
    "            pass\n",
    "        \n",
    "        img = cv2.imread(dir_path + \"/\"+filename)\n",
    "        img = scipy.misc.imresize(arr=img,size=(80,60,3))\n",
    "        img_arr = np.asarray(img)\n",
    "        \n",
    "        all_img.append(img_arr)\n",
    "        \n",
    "    image_all=np.asarray(all_img)/255\n",
    "    return (image_all),(label)"
   ]
  },
  {
   "cell_type": "code",
   "execution_count": null,
   "metadata": {},
   "outputs": [],
   "source": []
  }
 ],
 "metadata": {
  "kernelspec": {
   "display_name": "Python 3",
   "language": "python",
   "name": "python3"
  },
  "language_info": {
   "codemirror_mode": {
    "name": "ipython",
    "version": 3
   },
   "file_extension": ".py",
   "mimetype": "text/x-python",
   "name": "python",
   "nbconvert_exporter": "python",
   "pygments_lexer": "ipython3",
   "version": "3.6.8"
  }
 },
 "nbformat": 4,
 "nbformat_minor": 2
}
